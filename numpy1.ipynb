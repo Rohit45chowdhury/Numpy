{
 "cells": [
  {
   "cell_type": "code",
   "execution_count": 3,
   "id": "65ada5ce",
   "metadata": {},
   "outputs": [],
   "source": [
    "import numpy as np"
   ]
  },
  {
   "cell_type": "markdown",
   "id": "16f90f3a",
   "metadata": {},
   "source": [
    "Creating Array from List"
   ]
  },
  {
   "cell_type": "code",
   "execution_count": null,
   "id": "6cb7eb45",
   "metadata": {},
   "outputs": [
    {
     "name": "stdout",
     "output_type": "stream",
     "text": [
      "1D array: [1 2 3 4 5]\n",
      "2D array: [[1 2 3 4]\n",
      " [5 6 7 8]]\n"
     ]
    }
   ],
   "source": [
    "\n",
    "arr_1d=np.array([1,2,3,4,5])\n",
    "print(\"1D array:\",arr_1d)\n",
    "\n",
    "arr_2d=np.array([[1,2,3,4],[5,6,7,8]])\n",
    "print(\"2D array:\",arr_2d)"
   ]
  },
  {
   "cell_type": "markdown",
   "id": "d21a68d7",
   "metadata": {},
   "source": [
    "List vs Numpy"
   ]
  },
  {
   "cell_type": "code",
   "execution_count": null,
   "id": "f2f93e4d",
   "metadata": {},
   "outputs": [
    {
     "name": "stdout",
     "output_type": "stream",
     "text": [
      "Python list multiplication  [1, 2, 3, 1, 2, 3]\n",
      "Python array multiplication: [2 4 6]\n",
      "\n",
      " List operation time: 0.047411203384399414\n",
      "\n",
      " numpy operation time: 0.0036373138427734375\n"
     ]
    }
   ],
   "source": [
    "\n",
    "py_list = [1, 2, 3]\n",
    "print(\"Python list multiplication \", py_list * 2)\n",
    "\n",
    "np_array=np.array([1,2,3])\n",
    "print(\"Python array multiplication:\",np_array*2)\n",
    "\n",
    "import time\n",
    "start=time.time()\n",
    "py_list=[i*2 for i in range(1000000)]\n",
    "print(\"\\n List operation time:\",time.time()-start)\n",
    "\n",
    "start=time.time()\n",
    "np_array=np.arange(1000000)*2\n",
    "print(\"\\n numpy operation time:\",time.time()-start)"
   ]
  },
  {
   "cell_type": "markdown",
   "id": "4c6b0de8",
   "metadata": {},
   "source": [
    "Creating Array From Scratch"
   ]
  },
  {
   "cell_type": "code",
   "execution_count": null,
   "id": "369150e7",
   "metadata": {},
   "outputs": [
    {
     "name": "stdout",
     "output_type": "stream",
     "text": [
      "zeros array:\n",
      " [[0. 0. 0. 0.]\n",
      " [0. 0. 0. 0.]\n",
      " [0. 0. 0. 0.]]\n",
      "ones array:\n",
      " [[1. 1. 1. 1.]\n",
      " [1. 1. 1. 1.]\n",
      " [1. 1. 1. 1.]]\n",
      "full array:\n",
      " [[7 7 7 7]\n",
      " [7 7 7 7]\n",
      " [7 7 7 7]]\n",
      "random array: \n",
      " [[0.66528789 0.94489137 0.42749294]\n",
      " [0.93167786 0.21002793 0.90792696]]\n",
      "squence array:\n",
      " [ 0  2  4  6  8 10]\n"
     ]
    }
   ],
   "source": [
    "\n",
    "zero=np.zeros([3,4])\n",
    "print(\"zeros array:\\n\",zero)\n",
    "\n",
    "ones=np.ones([3,4])\n",
    "print(\"ones array:\\n\",ones)\n",
    "\n",
    "full=np.full([3,4],7)\n",
    "print(\"full array:\\n\",full)\n",
    "\n",
    "random = np.random.random((2, 3))\n",
    "print(\"random array: \\n\", random)\n",
    "\n",
    "squence=np.arange(0,11,2)\n",
    "print(\"squence array:\\n\",squence)"
   ]
  },
  {
   "cell_type": "markdown",
   "id": "994f50fb",
   "metadata": {},
   "source": [
    "Vector,Matrix and Tensor"
   ]
  },
  {
   "cell_type": "code",
   "execution_count": null,
   "id": "aec72e42",
   "metadata": {},
   "outputs": [
    {
     "name": "stdout",
     "output_type": "stream",
     "text": [
      "vector:\n",
      " [1 2 3]\n",
      "matrix:\n",
      " [[1 2 3]\n",
      " [4 5 6]]\n",
      "Tensor:\n",
      " [[[ 1  2  3]\n",
      "  [ 4  5  6]\n",
      "  [ 7  8  9]\n",
      "  [10 11 12]]]\n"
     ]
    }
   ],
   "source": [
    "\n",
    "vector=np.array([1,2,3])\n",
    "print(\"vector:\\n\",vector)\n",
    "\n",
    "matrix=np.array([[1,2,3],[4,5,6]])\n",
    "print('matrix:\\n',matrix)\n",
    "\n",
    "tensor=np.array([[[1,2,3],[4,5,6],[7,8,9],[10,11,12]]])\n",
    "print(\"Tensor:\\n\",tensor)"
   ]
  },
  {
   "cell_type": "markdown",
   "id": "e716b896",
   "metadata": {},
   "source": [
    "Array Properties"
   ]
  },
  {
   "cell_type": "code",
   "execution_count": null,
   "id": "f78a11c2",
   "metadata": {},
   "outputs": [
    {
     "name": "stdout",
     "output_type": "stream",
     "text": [
      "shape: (2, 3)\n",
      "Dimension: 2\n",
      "size: 6\n",
      "Dtype: int64\n"
     ]
    }
   ],
   "source": [
    "\n",
    "arr=np.array([[1,2,3],[4,5,6]])\n",
    "\n",
    "print(\"shape:\",arr.shape)\n",
    "print(\"Dimension:\",arr.ndim)\n",
    "print(\"size:\",arr.size)\n",
    "print(\"Dtype:\",arr.dtype)\n"
   ]
  },
  {
   "cell_type": "markdown",
   "id": "187a66ef",
   "metadata": {},
   "source": [
    "Array Reshaping"
   ]
  },
  {
   "cell_type": "code",
   "execution_count": null,
   "id": "34b966ff",
   "metadata": {},
   "outputs": [
    {
     "name": "stdout",
     "output_type": "stream",
     "text": [
      "\n",
      " original array: [ 0  1  2  3  4  5  6  7  8  9 10 11]\n",
      "\n",
      " Reshaped: [[ 0  1  2  3]\n",
      " [ 4  5  6  7]\n",
      " [ 8  9 10 11]]\n",
      "\n",
      "Flattened array:  [ 0  1  2  3  4  5  6  7  8  9 10 11]\n",
      "\n",
      " raveled array:  [ 0  1  2  3  4  5  6  7  8  9 10 11]\n",
      "\n",
      " Transposed array  [[ 0  4  8]\n",
      " [ 1  5  9]\n",
      " [ 2  6 10]\n",
      " [ 3  7 11]]\n"
     ]
    }
   ],
   "source": [
    "\n",
    "arr=np.arange(12)\n",
    "print(\"\\n original array:\",arr)\n",
    "\n",
    "reshaped=arr.reshape([3,4])\n",
    "print(\"\\n Reshaped:\",reshaped)\n",
    "\n",
    "flattened = reshaped.flatten()\n",
    "print(\"\\nFlattened array: \", flattened)\n",
    "\n",
    "# ravel (returns view, instead of copy)\n",
    "raveled = reshaped.ravel()\n",
    "print(\"\\n raveled array: \", raveled)\n",
    "\n",
    "# Transpose\n",
    "transpose = reshaped.T\n",
    "print(\"\\n Transposed array \", transpose)"
   ]
  }
 ],
 "metadata": {
  "kernelspec": {
   "display_name": ".venv (3.13.1)",
   "language": "python",
   "name": "python3"
  },
  "language_info": {
   "codemirror_mode": {
    "name": "ipython",
    "version": 3
   },
   "file_extension": ".py",
   "mimetype": "text/x-python",
   "name": "python",
   "nbconvert_exporter": "python",
   "pygments_lexer": "ipython3",
   "version": "3.13.1"
  }
 },
 "nbformat": 4,
 "nbformat_minor": 5
}
