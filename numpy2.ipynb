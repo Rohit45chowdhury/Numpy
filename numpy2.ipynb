{
 "cells": [
  {
   "cell_type": "markdown",
   "id": "fb451341",
   "metadata": {},
   "source": [
    "Numpy Array Operations"
   ]
  },
  {
   "cell_type": "code",
   "execution_count": 2,
   "id": "c6ea2ba7",
   "metadata": {},
   "outputs": [],
   "source": [
    "import numpy as np"
   ]
  },
  {
   "cell_type": "code",
   "execution_count": 3,
   "id": "74d8e6a3",
   "metadata": {},
   "outputs": [
    {
     "name": "stdout",
     "output_type": "stream",
     "text": [
      "Basic Slicing [3 4 5 6 7]\n",
      "With Step [2 4 6 8]\n",
      "Negative indexing 8\n"
     ]
    }
   ],
   "source": [
    "arr = np.array([1, 2, 3, 4, 5, 6, 7, 8, 9, 10])\n",
    "print(\"Basic Slicing\", arr[2:7])\n",
    "print(\"With Step\", arr[1:8:2])\n",
    "print(\"Negative indexing\", arr[-3])"
   ]
  },
  {
   "cell_type": "code",
   "execution_count": 4,
   "id": "0d6379e7",
   "metadata": {},
   "outputs": [
    {
     "name": "stdout",
     "output_type": "stream",
     "text": [
      "Specific element 4\n",
      "Entire row:  [4 5 6]\n",
      "Entire column:  [2 5 8]\n"
     ]
    }
   ],
   "source": [
    "arr_2d = np.array([[1, 2, 3],\n",
    "                   [4, 5, 6],\n",
    "                   [7, 8, 9]])\n",
    "print(\"Specific element\", arr_2d[1, 0])\n",
    "print(\"Entire row: \", arr_2d[1])\n",
    "print(\"Entire column: \", arr_2d[:, 1])"
   ]
  },
  {
   "cell_type": "markdown",
   "id": "9f0ef526",
   "metadata": {},
   "source": [
    "Sorting"
   ]
  },
  {
   "cell_type": "code",
   "execution_count": 5,
   "id": "c04d3258",
   "metadata": {},
   "outputs": [
    {
     "name": "stdout",
     "output_type": "stream",
     "text": [
      "\n",
      "sorted: [1 1 2 3 4 5 6 9]\n",
      "Sorted 2D array by column [[1 1]\n",
      " [2 2]\n",
      " [3 3]]\n",
      "[[2 3 1]\n",
      " [4 6 5]\n",
      " [9 8 7]]\n",
      "\n",
      " sorted in 2D: [[1 2 3]\n",
      " [4 5 6]\n",
      " [7 8 9]]\n",
      "\n",
      " sorted in 2D: [[2 3 1]\n",
      " [4 6 5]\n",
      " [9 8 7]]\n"
     ]
    }
   ],
   "source": [
    "unsorted = np.array([3, 1, 4, 1, 5, 9, 2, 6])\n",
    "print(\"\\nsorted:\",np.sort(unsorted))\n",
    "\n",
    "arr_2d_unsorted = np.array([[3, 1], [1, 2], [2, 3]])\n",
    "print(\"Sorted 2D array by column\", np.sort(arr_2d_unsorted, axis=0)) # column wise\n",
    "\n",
    "unsorted2=np.array([[2,3,1],[4,6,5],[9,8,7]])\n",
    "print(unsorted2)\n",
    "print(\"\\n sorted in 2D:\",np.sort(unsorted2,axis=1)) # row wise\n",
    "print(\"\\n sorted in 2D:\",np.sort(unsorted2,axis=0)) # column wise"
   ]
  },
  {
   "cell_type": "markdown",
   "id": "0e57c8d7",
   "metadata": {},
   "source": [
    "Filter"
   ]
  },
  {
   "cell_type": "code",
   "execution_count": 11,
   "id": "5f41f21a",
   "metadata": {},
   "outputs": [
    {
     "name": "stdout",
     "output_type": "stream",
     "text": [
      "even number: [ 2  4  6  8 10]\n",
      "odd number: [1 3 5 7 9]\n",
      "Numbers greater than 5: [ 6  7  8  9 10]\n",
      "indices: [1 3 5]\n",
      "(array([5, 6, 7, 8, 9]),)\n",
      "NP where: [ 6  7  8  9 10]\n",
      "['False' 'False' 'False' 'False' 'False' 'True' 'True' 'True' 'True'\n",
      " 'True']\n"
     ]
    }
   ],
   "source": [
    "numbers = np.array([1, 2, 3, 4, 5, 6, 7, 8, 9, 10])\n",
    "even_number=numbers[numbers%2==0]\n",
    "print(\"even number:\",even_number)\n",
    "\n",
    "odd_number=numbers[numbers%2!=0]\n",
    "print(\"odd number:\",odd_number)\n",
    "\n",
    "\n",
    "# filter with mask\n",
    "mask=numbers>5 \n",
    "print(\"Numbers greater than 5:\",numbers[mask])\n",
    "\n",
    "\n",
    "# fancy indexing vs np.where()\n",
    "indices=[0,2,4]\n",
    "print(\"indices:\",numbers[indices])\n",
    "\n",
    "where_result=np.where(numbers>5)\n",
    "print(where_result)\n",
    "print(\"NP where:\",numbers[where_result])\n",
    "\n",
    "condition_array=np.where(numbers>5,\"True\",\"False\")\n",
    "print(condition_array)"
   ]
  },
  {
   "cell_type": "markdown",
   "id": "4f25d2a2",
   "metadata": {},
   "source": [
    "Adding and Removing"
   ]
  },
  {
   "cell_type": "code",
   "execution_count": 7,
   "id": "94507fa0",
   "metadata": {},
   "outputs": [
    {
     "name": "stdout",
     "output_type": "stream",
     "text": [
      "[1 2 3 4 5 6]\n",
      "[4 6]\n"
     ]
    }
   ],
   "source": [
    "arr1 = np.array([1, 2, 3])\n",
    "arr2 = np.array([4, 5, 6])\n",
    "\n",
    "combined = np.concatenate((arr1, arr2))\n",
    "print(combined)\n",
    "\n",
    "new_arr=np.delete(arr2,1)\n",
    "print(new_arr)"
   ]
  },
  {
   "cell_type": "markdown",
   "id": "3d43e70a",
   "metadata": {},
   "source": [
    "Array compatibility"
   ]
  },
  {
   "cell_type": "code",
   "execution_count": 8,
   "id": "40d07f2e",
   "metadata": {},
   "outputs": [
    {
     "name": "stdout",
     "output_type": "stream",
     "text": [
      "Compatibility shapes False\n",
      "\n",
      "original: [[1 2]\n",
      " [3 4]]\n",
      "\n",
      "after new roe: [[1 2]\n",
      " [3 4]\n",
      " [5 6]]\n",
      "\n",
      " after new column: [[1 2 7]\n",
      " [3 4 8]]\n"
     ]
    }
   ],
   "source": [
    "a = np.array([1, 2, 3])\n",
    "b = np.array([4, 5, 6, 7])\n",
    "c = np.array([7, 8, 9])\n",
    "\n",
    "print(\"Compatibility shapes\", a.shape == b.shape)\n",
    "\n",
    "original = np.array([[1, 2], [3, 4]])\n",
    "new_row = np.array([[5, 6]])\n",
    "with_new_row=np.vstack((original,new_row))\n",
    "print(\"\\noriginal:\",original)\n",
    "print(\"\\nafter new roe:\",with_new_row)\n",
    "\n",
    "new_col=np.array([[7],[8]])\n",
    "with_new_col=np.hstack((original,new_col))\n",
    "print(\"\\n after new column:\",with_new_col)"
   ]
  }
 ],
 "metadata": {
  "kernelspec": {
   "display_name": ".venv (3.13.1)",
   "language": "python",
   "name": "python3"
  },
  "language_info": {
   "codemirror_mode": {
    "name": "ipython",
    "version": 3
   },
   "file_extension": ".py",
   "mimetype": "text/x-python",
   "name": "python",
   "nbconvert_exporter": "python",
   "pygments_lexer": "ipython3",
   "version": "3.13.1"
  }
 },
 "nbformat": 4,
 "nbformat_minor": 5
}
